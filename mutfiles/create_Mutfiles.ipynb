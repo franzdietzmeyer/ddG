{
 "cells": [
  {
   "cell_type": "code",
   "execution_count": null,
   "metadata": {},
   "outputs": [],
   "source": [
    "def process_mutations(input_file):\n",
    "    # Define the constant to add to the position\n",
    "    A = 511\n",
    "\n",
    "\n",
    "    with open(input_file, 'r') as infile:\n",
    "        lines = infile.readlines()\n",
    "\n",
    "    with open(\"../start.sh\", 'w') as start_file:\n",
    "        start_file.write(\"#!/bin/bash\\n\")\n",
    "\n",
    "\n",
    "        for line in lines[1:]:\n",
    "            native, position, mutant = line.strip().split()\n",
    "            position = int(position)\n",
    "            output_file = f\"{native}{position}{mutant}.mutfile\"\n",
    "\n",
    "            with open(output_file, 'w') as outfile:\n",
    "                outfile.write(\"total 3\\n\")\n",
    "                outfile.write(\"3\\n\")\n",
    "                outfile.write(f\"{native} {position} {mutant}\\n\")\n",
    "                outfile.write(f\"{native} {position + A} {mutant}\\n\")\n",
    "                outfile.write(f\"{native} {position + 2 * A} {mutant}\\n\")\n",
    "\n",
    "\n",
    "\n",
    "            start_file.write(f\"sbatch ddg_app.job {native}{position}{mutant}\\n\")\n",
    "\n",
    "\n",
    "input_file = 'input.txt'\n",
    "process_mutations(input_file)\n",
    "\n",
    "\n",
    "\n",
    "#input.txt has the following content:\n",
    "#Native\tposition\tmutant\n",
    "#L\t2\tK\n",
    "#R\t77\tL\n",
    "#A\t91\tK\n",
    "#N\t114\tY"
   ]
  }
 ],
 "metadata": {
  "language_info": {
   "name": "python"
  }
 },
 "nbformat": 4,
 "nbformat_minor": 2
}
